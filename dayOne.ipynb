{
 "cells": [
  {
   "cell_type": "code",
   "execution_count": 8,
   "id": "2e35ca7b",
   "metadata": {},
   "outputs": [
    {
     "name": "stdout",
     "output_type": "stream",
     "text": [
      "hello world\n"
     ]
    }
   ],
   "source": [
    "print(\"hello world\")"
   ]
  },
  {
   "cell_type": "code",
   "execution_count": 9,
   "id": "21658678",
   "metadata": {},
   "outputs": [
    {
     "name": "stdout",
     "output_type": "stream",
     "text": [
      "9\n"
     ]
    }
   ],
   "source": [
    "a = 5\n",
    "b = 4\n",
    "\n",
    "print(a + b)"
   ]
  },
  {
   "cell_type": "code",
   "execution_count": null,
   "id": "91b9f840",
   "metadata": {},
   "outputs": [],
   "source": [
    "a = 54\n",
    "print(a * 2)"
   ]
  },
  {
   "cell_type": "code",
   "execution_count": null,
   "id": "b35b0df9",
   "metadata": {},
   "outputs": [
    {
     "name": "stdout",
     "output_type": "stream",
     "text": [
      "<class 'int'>\n",
      "<class 'float'>\n",
      "<class 'str'>\n",
      "<class 'bool'>\n",
      "<class 'bool'>\n"
     ]
    }
   ],
   "source": [
    "a= 20\n",
    "b=100.5\n",
    "c=\"pathum\"\n",
    "d=False\n",
    "e=True\n",
    "\n",
    "print(type(a))\n",
    "print(type(b))\n",
    "print(type(c))\n",
    "print(type(d))\n",
    "print(type(e))"
   ]
  },
  {
   "cell_type": "code",
   "execution_count": 13,
   "id": "1a515a1a",
   "metadata": {},
   "outputs": [
    {
     "name": "stdout",
     "output_type": "stream",
     "text": [
      "2500000000000.0\n",
      "2.0\n"
     ]
    }
   ],
   "source": [
    "num = 2.5e12\n",
    "print(num)\n",
    "\n",
    "num2= 2\n",
    "b = float(num2)\n",
    "print(b)"
   ]
  },
  {
   "cell_type": "code",
   "execution_count": null,
   "id": "3a872700",
   "metadata": {},
   "outputs": [
    {
     "name": "stdout",
     "output_type": "stream",
     "text": [
      "<class 'tuple'>\n",
      "('apple',)\n",
      "1\n"
     ]
    }
   ],
   "source": [
    "# this is a touple and touples are immutable (cant update or add items in touple)\n",
    "# when touple contains a single value it should have a comma at the end othervise it will be considered as a string\n",
    "fruits = (\"apple\",)\n",
    "print(type(fruits))\n",
    "print(fruits)\n",
    "print(len(fruits))"
   ]
  },
  {
   "cell_type": "code",
   "execution_count": 12,
   "id": "54169321",
   "metadata": {},
   "outputs": [
    {
     "name": "stdout",
     "output_type": "stream",
     "text": [
      "name list ['pathum', 'saman', 'kamal']\n",
      "<class 'list'>\n",
      "name list touple ('pathum', 'nimal', 'kamal')\n",
      "<class 'tuple'>\n"
     ]
    }
   ],
   "source": [
    "# how to change a value in a touple\n",
    "\n",
    "name_list = (\"pathum\", \"saman\", \"kamal\")\n",
    "\n",
    "# convert touple to a list\n",
    "name_list = list(name_list)\n",
    "\n",
    "print(\"name list\", name_list)\n",
    "print(type(name_list))\n",
    "\n",
    "name_list[1] = \"nimal\"\n",
    "name_list = tuple(name_list)\n",
    "print(\"name list touple\", name_list)\n",
    "\n",
    "print(type(name_list))"
   ]
  },
  {
   "cell_type": "code",
   "execution_count": 2,
   "id": "d08cd29d",
   "metadata": {},
   "outputs": [
    {
     "name": "stdout",
     "output_type": "stream",
     "text": [
      "b\n",
      "True\n"
     ]
    }
   ],
   "source": [
    "nested_touple = ((1,2,3), (\"a\", \"b\", \"c\"), (True, False))\n",
    "\n",
    "print(nested_touple[1][1])\n",
    "print(nested_touple[2][0])"
   ]
  },
  {
   "cell_type": "code",
   "execution_count": 12,
   "id": "354148ac",
   "metadata": {},
   "outputs": [
    {
     "name": "stdout",
     "output_type": "stream",
     "text": [
      "{'banana', 'apple', 'orange'}\n",
      "<class 'set'>\n",
      "{'wood apple', 'apple', 'banana', 'orange', 'grapes'}\n",
      "5\n"
     ]
    }
   ],
   "source": [
    "# Python sets\n",
    "\n",
    "fruits_set = {\"apple\", \"orange\", \"banana\"}\n",
    "\n",
    "print(fruits_set)\n",
    "print(type(fruits_set))\n",
    "# sets are unordered and unindexed\n",
    "# sets do not allow duplicate values\n",
    "# sets are mutable, but the items in the set must be immutable\n",
    "fruits_set.add(\"grapes\")\n",
    "fruits_set.add(\"wood apple\")\n",
    "print(fruits_set)\n",
    "\n",
    "# get the length of set\n",
    "print(len(fruits_set))"
   ]
  },
  {
   "cell_type": "code",
   "execution_count": null,
   "id": "2b2d68e0",
   "metadata": {},
   "outputs": [],
   "source": []
  }
 ],
 "metadata": {
  "kernelspec": {
   "display_name": "Python 3",
   "language": "python",
   "name": "python3"
  },
  "language_info": {
   "codemirror_mode": {
    "name": "ipython",
    "version": 3
   },
   "file_extension": ".py",
   "mimetype": "text/x-python",
   "name": "python",
   "nbconvert_exporter": "python",
   "pygments_lexer": "ipython3",
   "version": "3.13.0"
  }
 },
 "nbformat": 4,
 "nbformat_minor": 5
}
