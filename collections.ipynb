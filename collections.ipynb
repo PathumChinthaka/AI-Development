{
 "cells": [
  {
   "cell_type": "code",
   "execution_count": 2,
   "id": "875e6a00",
   "metadata": {},
   "outputs": [
    {
     "name": "stdout",
     "output_type": "stream",
     "text": [
      "{'orange', 'kamal', 'apple', 'smith', 'john'}\n",
      "<class 'set'>\n"
     ]
    }
   ],
   "source": [
    "name_set= {\"kamal\", \"smith\", \"john\"}\n",
    "fruit_set= {\"apple\", \"orange\"}\n",
    "\n",
    "# update nameset\n",
    "name_set.update(fruit_set)\n",
    "print(name_set)\n",
    "\n",
    "animal_set= {\"dog\"}\n",
    "print(type(animal_set))"
   ]
  },
  {
   "cell_type": "code",
   "execution_count": 6,
   "id": "291ddee2",
   "metadata": {},
   "outputs": [
    {
     "name": "stdout",
     "output_type": "stream",
     "text": [
      "{'dog', 'banana', 'cat'}\n"
     ]
    }
   ],
   "source": [
    "# we can also add a list to a set\n",
    "fruit_set= {\"banana\", \"apple\"}\n",
    "animals_list= [\"dog\",\"cat\"]\n",
    "\n",
    "fruit_set.update(animals_list)\n",
    "\n",
    "# remove item from set\n",
    "fruit_set.remove(\"apple\")\n",
    "# print the updated fruit_set\n",
    "print(fruit_set)"
   ]
  },
  {
   "cell_type": "code",
   "execution_count": 14,
   "id": "e29a472f",
   "metadata": {},
   "outputs": [
    {
     "name": "stdout",
     "output_type": "stream",
     "text": [
      "1\n",
      "4\n",
      "7\n",
      "<class 'range'>\n",
      "1\n",
      "2\n",
      "3\n",
      "0\n",
      "1\n",
      "2\n"
     ]
    }
   ],
   "source": [
    "new_range= range(1,10,3)\n",
    "print(new_range[0])\n",
    "print(new_range[1])\n",
    "print(new_range[2])\n",
    "print(type(new_range))\n",
    "\n",
    "# if we dont set step value the default step value is 1\n",
    "new_range_2= range(1,10)\n",
    "print(new_range_2[0])\n",
    "print(new_range_2[1])\n",
    "print(new_range_2[2])\n",
    "\n",
    "# if start value is not set it default gets the value of 0\n",
    "new_range_3= range(10)\n",
    "print(new_range_3[0])\n",
    "print(new_range_3[1])\n",
    "print(new_range_3[2])"
   ]
  },
  {
   "cell_type": "code",
   "execution_count": 15,
   "id": "a2ddf864",
   "metadata": {},
   "outputs": [
    {
     "name": "stdout",
     "output_type": "stream",
     "text": [
      "value in range 10\n",
      "value in range 12\n",
      "value in range 14\n",
      "value in range 16\n",
      "value in range 18\n"
     ]
    }
   ],
   "source": [
    "new_range_4= range(10, 20, 2)\n",
    "new_range_list= list(new_range_4)\n",
    "\n",
    "for i in new_range_list:\n",
    "    print(\"value in range\", i)"
   ]
  },
  {
   "cell_type": "code",
   "execution_count": 31,
   "id": "d924051d",
   "metadata": {},
   "outputs": [
    {
     "name": "stdout",
     "output_type": "stream",
     "text": [
      "<class 'dict'>\n",
      "{'city': 'New York', 'state': 'NY'}\n",
      "New York\n",
      "kamal\n",
      "John\n",
      "5\n",
      "('email', 'pathum@gmail.com')\n",
      "{}\n"
     ]
    }
   ],
   "source": [
    "# dict is orderd and mutable\n",
    "# duplicate not allowed\n",
    "user_dict={\n",
    "    \"name\":'kamal',\n",
    "    \"age\": 30,\n",
    "    \"is_student\": False,\n",
    "    \"courses\": [\"python\", \"java\"],\n",
    "    \"address\": {\n",
    "        \"city\": \"New York\",\n",
    "        \"state\": \"NY\"\n",
    "    }\n",
    "}\n",
    "\n",
    "print(type(user_dict))\n",
    "\n",
    "print(user_dict[\"address\"])\n",
    "print(user_dict[\"address\"][\"city\"])\n",
    "\n",
    "# access key value using get method\n",
    "print(user_dict.get(\"name\"))\n",
    "\n",
    "user_dict[\"name\"]= \"John\"\n",
    "print(user_dict[\"name\"])\n",
    "\n",
    "print(len(user_dict))\n",
    "\n",
    "# add new item for user dict\n",
    "user_dict.update({\"email\": \"pathum@gmail.com\"})\n",
    "\n",
    "# print(user_dict)\n",
    "\n",
    "# print(user_dict.keys())\n",
    "print(user_dict.popitem())  # removes the address key and returns its value\n",
    "\n",
    "del user_dict[\"age\"]  # removes the age key\n",
    "\n",
    "user_dict.clear()\n",
    "\n",
    "print(user_dict)\n",
    "\n",
    "# del user_dict  # deletes the entire dictionary\n",
    "\n",
    "\n"
   ]
  },
  {
   "cell_type": "code",
   "execution_count": null,
   "id": "d8fcb584",
   "metadata": {},
   "outputs": [
    {
     "name": "stdout",
     "output_type": "stream",
     "text": [
      "copy of user_dict {'name': 'kamal', 'age': 30, 'is_student': False, 'courses': ['python', 'java'], 'address': {'city': 'New York', 'state': 'NY'}}\n",
      "original user dict {'name': 'John', 'age': 30, 'is_student': False, 'courses': ['python', 'java'], 'address': {'city': 'New York', 'state': 'NY'}}\n"
     ]
    }
   ],
   "source": [
    "user_dict = {\n",
    "    \"name\": 'kamal',\n",
    "    \"age\": 30,\n",
    "    \"is_student\": False,\n",
    "    \"courses\": [\"python\", \"java\"],\n",
    "    \"address\": {\n",
    "        \"city\": \"New York\",\n",
    "        \"state\": \"NY\"\n",
    "    }\n",
    "}\n",
    "\n",
    "temp_dict= user_dict.copy()\n",
    "\n",
    "print(\"copy of user_dict\", temp_dict)\n",
    "\n",
    "user_dict[\"name\"]= \"John\" \n",
    "\n",
    "print(\"original user dict\", user_dict)"
   ]
  },
  {
   "cell_type": "code",
   "execution_count": null,
   "id": "fb7df2e5",
   "metadata": {},
   "outputs": [
    {
     "name": "stdout",
     "output_type": "stream",
     "text": [
      "[11, 23, 28, 43, 50, 70]\n"
     ]
    }
   ],
   "source": [
    "# remove duplicate\n",
    "\n",
    "num_list= [50,70,50,43,23,28,70,23,11]\n",
    "\n",
    "num_set= set(num_list)\n",
    "\n",
    "num_list_unique= list(num_set)\n",
    "\n",
    "num_list_unique.sort()\n",
    "\n",
    "print(num_list_unique)"
   ]
  },
  {
   "cell_type": "code",
   "execution_count": null,
   "id": "c8524480",
   "metadata": {},
   "outputs": [],
   "source": []
  },
  {
   "cell_type": "code",
   "execution_count": 42,
   "id": "d17f7ff1",
   "metadata": {},
   "outputs": [
    {
     "name": "stdout",
     "output_type": "stream",
     "text": [
      "2\n",
      "2.3333333333333335\n",
      "1\n"
     ]
    }
   ],
   "source": [
    "x,y = 7,3\n",
    "print(x//y)\n",
    "print(x/y)\n",
    "print(x%y)"
   ]
  },
  {
   "cell_type": "code",
   "execution_count": null,
   "id": "7b4287af",
   "metadata": {},
   "outputs": [
    {
     "name": "stdout",
     "output_type": "stream",
     "text": [
      "False\n",
      "True\n",
      "True\n"
     ]
    }
   ],
   "source": [
    "x,y= 10, 20\n",
    "print(x is y)\n",
    "\n",
    "a = 10\n",
    "b=a\n",
    "\n",
    "print(b is a)\n",
    "\n",
    "n=5\n",
    "m=5\n",
    "\n",
    "# this will return true because interpreter caches small integers and reuses them\n",
    "print(n is m)\n"
   ]
  },
  {
   "cell_type": "code",
   "execution_count": null,
   "id": "aa0e4664",
   "metadata": {},
   "outputs": [],
   "source": []
  },
  {
   "cell_type": "code",
   "execution_count": 49,
   "id": "030c44b6",
   "metadata": {},
   "outputs": [
    {
     "name": "stdout",
     "output_type": "stream",
     "text": [
      "True\n",
      "False\n"
     ]
    }
   ],
   "source": [
    "num_list= [50,70,50,43,23,28,70,23,11]\n",
    "\n",
    "print(50 in num_list)\n",
    "\n",
    "print(77 in num_list)"
   ]
  },
  {
   "cell_type": "code",
   "execution_count": 50,
   "id": "eebaaed3",
   "metadata": {},
   "outputs": [
    {
     "name": "stdout",
     "output_type": "stream",
     "text": [
      "0\n"
     ]
    }
   ],
   "source": [
    "a=5\n",
    "b=10\n",
    "\n",
    "c= a & b\n",
    "print(c)  # bitwise AND operation"
   ]
  },
  {
   "cell_type": "code",
   "execution_count": 54,
   "id": "c40c9181",
   "metadata": {},
   "outputs": [
    {
     "name": "stdout",
     "output_type": "stream",
     "text": [
      "n is odd\n"
     ]
    }
   ],
   "source": [
    "n = 5\n",
    "\n",
    "if n % 2 == 0:\n",
    "    print(\"n is even\")\n",
    "else:\n",
    "    print(\"n is odd\")"
   ]
  },
  {
   "cell_type": "code",
   "execution_count": null,
   "id": "6e3b9a32",
   "metadata": {},
   "outputs": [],
   "source": [
    "user_input= int(input(\"Enter a value: \"))\n",
    "f=3.14\n",
    "r=20\n",
    "radious= 0\n",
    "# user_input=10\n",
    "\n",
    "if user_input < 0:\n",
    "    print(\"value is not positive\")\n",
    "else:\n",
    "    radious = 2 * f * r\n",
    "    print(\"radious is\", radious)"
   ]
  }
 ],
 "metadata": {
  "kernelspec": {
   "display_name": "Python 3",
   "language": "python",
   "name": "python3"
  },
  "language_info": {
   "codemirror_mode": {
    "name": "ipython",
    "version": 3
   },
   "file_extension": ".py",
   "mimetype": "text/x-python",
   "name": "python",
   "nbconvert_exporter": "python",
   "pygments_lexer": "ipython3",
   "version": "3.13.0"
  }
 },
 "nbformat": 4,
 "nbformat_minor": 5
}
