{
 "cells": [
  {
   "cell_type": "code",
   "execution_count": 2,
   "id": "875e6a00",
   "metadata": {},
   "outputs": [
    {
     "name": "stdout",
     "output_type": "stream",
     "text": [
      "{'orange', 'kamal', 'apple', 'smith', 'john'}\n",
      "<class 'set'>\n"
     ]
    }
   ],
   "source": [
    "name_set= {\"kamal\", \"smith\", \"john\"}\n",
    "fruit_set= {\"apple\", \"orange\"}\n",
    "\n",
    "# update nameset\n",
    "name_set.update(fruit_set)\n",
    "print(name_set)\n",
    "\n",
    "animal_set= {\"dog\"}\n",
    "print(type(animal_set))"
   ]
  },
  {
   "cell_type": "code",
   "execution_count": 6,
   "id": "291ddee2",
   "metadata": {},
   "outputs": [
    {
     "name": "stdout",
     "output_type": "stream",
     "text": [
      "{'dog', 'banana', 'cat'}\n"
     ]
    }
   ],
   "source": [
    "# we can also add a list to a set\n",
    "fruit_set= {\"banana\", \"apple\"}\n",
    "animals_list= [\"dog\",\"cat\"]\n",
    "\n",
    "fruit_set.update(animals_list)\n",
    "\n",
    "# remove item from set\n",
    "fruit_set.remove(\"apple\")\n",
    "# print the updated fruit_set\n",
    "print(fruit_set)"
   ]
  }
 ],
 "metadata": {
  "kernelspec": {
   "display_name": "Python 3",
   "language": "python",
   "name": "python3"
  },
  "language_info": {
   "codemirror_mode": {
    "name": "ipython",
    "version": 3
   },
   "file_extension": ".py",
   "mimetype": "text/x-python",
   "name": "python",
   "nbconvert_exporter": "python",
   "pygments_lexer": "ipython3",
   "version": "3.13.0"
  }
 },
 "nbformat": 4,
 "nbformat_minor": 5
}
