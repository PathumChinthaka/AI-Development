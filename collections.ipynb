{
 "cells": [
  {
   "cell_type": "code",
   "execution_count": 2,
   "id": "875e6a00",
   "metadata": {},
   "outputs": [
    {
     "name": "stdout",
     "output_type": "stream",
     "text": [
      "{'orange', 'kamal', 'apple', 'smith', 'john'}\n",
      "<class 'set'>\n"
     ]
    }
   ],
   "source": [
    "name_set= {\"kamal\", \"smith\", \"john\"}\n",
    "fruit_set= {\"apple\", \"orange\"}\n",
    "\n",
    "# update nameset\n",
    "name_set.update(fruit_set)\n",
    "print(name_set)\n",
    "\n",
    "animal_set= {\"dog\"}\n",
    "print(type(animal_set))"
   ]
  },
  {
   "cell_type": "code",
   "execution_count": 6,
   "id": "291ddee2",
   "metadata": {},
   "outputs": [
    {
     "name": "stdout",
     "output_type": "stream",
     "text": [
      "{'dog', 'banana', 'cat'}\n"
     ]
    }
   ],
   "source": [
    "# we can also add a list to a set\n",
    "fruit_set= {\"banana\", \"apple\"}\n",
    "animals_list= [\"dog\",\"cat\"]\n",
    "\n",
    "fruit_set.update(animals_list)\n",
    "\n",
    "# remove item from set\n",
    "fruit_set.remove(\"apple\")\n",
    "# print the updated fruit_set\n",
    "print(fruit_set)"
   ]
  },
  {
   "cell_type": "code",
   "execution_count": 14,
   "id": "e29a472f",
   "metadata": {},
   "outputs": [
    {
     "name": "stdout",
     "output_type": "stream",
     "text": [
      "1\n",
      "4\n",
      "7\n",
      "<class 'range'>\n",
      "1\n",
      "2\n",
      "3\n",
      "0\n",
      "1\n",
      "2\n"
     ]
    }
   ],
   "source": [
    "new_range= range(1,10,3)\n",
    "print(new_range[0])\n",
    "print(new_range[1])\n",
    "print(new_range[2])\n",
    "print(type(new_range))\n",
    "\n",
    "# if we dont set step value the default step value is 1\n",
    "new_range_2= range(1,10)\n",
    "print(new_range_2[0])\n",
    "print(new_range_2[1])\n",
    "print(new_range_2[2])\n",
    "\n",
    "# if start value is not set it default gets the value of 0\n",
    "new_range_3= range(10)\n",
    "print(new_range_3[0])\n",
    "print(new_range_3[1])\n",
    "print(new_range_3[2])"
   ]
  },
  {
   "cell_type": "code",
   "execution_count": 15,
   "id": "a2ddf864",
   "metadata": {},
   "outputs": [
    {
     "name": "stdout",
     "output_type": "stream",
     "text": [
      "value in range 10\n",
      "value in range 12\n",
      "value in range 14\n",
      "value in range 16\n",
      "value in range 18\n"
     ]
    }
   ],
   "source": [
    "new_range_4= range(10, 20, 2)\n",
    "new_range_list= list(new_range_4)\n",
    "\n",
    "for i in new_range_list:\n",
    "    print(\"value in range\", i)"
   ]
  },
  {
   "cell_type": "code",
   "execution_count": null,
   "id": "d924051d",
   "metadata": {},
   "outputs": [
    {
     "name": "stdout",
     "output_type": "stream",
     "text": [
      "<class 'dict'>\n",
      "{'city': 'New York', 'state': 'NY'}\n",
      "New York\n"
     ]
    }
   ],
   "source": [
    "# dict is orderd and mutable\n",
    "# duplicate not allowed\n",
    "user_dict={\n",
    "    \"name\":'kamal',\n",
    "    \"age\": 30,\n",
    "    \"is_student\": False,\n",
    "    \"courses\": [\"python\", \"java\"],\n",
    "    \"address\": {\n",
    "        \"city\": \"New York\",\n",
    "        \"state\": \"NY\"\n",
    "    }\n",
    "}\n",
    "\n",
    "print(type(user_dict))\n",
    "\n",
    "print(user_dict[\"address\"])\n",
    "print(user_dict[\"address\"][\"city\"])\n",
    "\n"
   ]
  }
 ],
 "metadata": {
  "kernelspec": {
   "display_name": "Python 3",
   "language": "python",
   "name": "python3"
  },
  "language_info": {
   "codemirror_mode": {
    "name": "ipython",
    "version": 3
   },
   "file_extension": ".py",
   "mimetype": "text/x-python",
   "name": "python",
   "nbconvert_exporter": "python",
   "pygments_lexer": "ipython3",
   "version": "3.13.0"
  }
 },
 "nbformat": 4,
 "nbformat_minor": 5
}
